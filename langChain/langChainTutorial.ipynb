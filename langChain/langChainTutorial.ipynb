{
 "cells": [
  {
   "cell_type": "code",
   "execution_count": 23,
   "metadata": {},
   "outputs": [],
   "source": [
    "from dotenv import load_dotenv\n",
    "import os\n",
    "# os.environ[\"OPENAI_API_KEY\"]= \n",
    "load_dotenv()\n",
    "x= os.getenv(\"OPENAI_API_KEY\")\n"
   ]
  },
  {
   "cell_type": "code",
   "execution_count": 24,
   "metadata": {},
   "outputs": [
    {
     "name": "stdout",
     "output_type": "stream",
     "text": [
      "\n",
      "\n",
      "Ahmed.\n"
     ]
    }
   ],
   "source": [
    "# !pip install langchain\n",
    "from langchain.llms import OpenAI\n",
    "llm= OpenAI(temperature =0.6)\n",
    "prommptTemplate= \"I want chose a name for a new born suggest an Arbic name\"\n",
    "print(llm(prommptTemplate))"
   ]
  },
  {
   "cell_type": "code",
   "execution_count": 36,
   "metadata": {},
   "outputs": [],
   "source": [
    "from langchain.prompts import PromptTemplate\n",
    "namingTemplate=PromptTemplate(\n",
    "    input_variables= ['Nationalitiy'],\n",
    "    template = \"I want chose a name for a new born suggest an {Nationalitiy} name\")\n",
    "\n",
    "# llm(Naming_Template.format(Nationalitiy=\"Indian\"))"
   ]
  },
  {
   "cell_type": "code",
   "execution_count": 37,
   "metadata": {},
   "outputs": [
    {
     "data": {
      "text/plain": [
       "'\\n\\nAmunet.'"
      ]
     },
     "execution_count": 37,
     "metadata": {},
     "output_type": "execute_result"
    }
   ],
   "source": [
    "from langchain.chains import LLMChain\n",
    "chain=LLMChain(llm=llm, prompt=namingTemplate)\n",
    "chain.run(\"Egyptian\")"
   ]
  },
  {
   "cell_type": "code",
   "execution_count": 42,
   "metadata": {},
   "outputs": [],
   "source": [
    "namingTemplate=PromptTemplate(\n",
    "    input_variables= ['Nationalitiy'],\n",
    "    template = \"I want chose a name for a new born. Suggest an {Nationalitiy} name\")\n",
    "name_chain=LLMChain(llm=llm, prompt=namingTemplate)\n",
    "addressTemplate=PromptTemplate(\n",
    "    input_variables= ['name'],\n",
    "    template = \"suggest some addresses for {name}, retun a json list of the suggested addresses\")\n",
    "address_chain=LLMChain(llm=llm, prompt=addressTemplate)"
   ]
  },
  {
   "cell_type": "code",
   "execution_count": 43,
   "metadata": {},
   "outputs": [
    {
     "name": "stdout",
     "output_type": "stream",
     "text": [
      "\n",
      "\n",
      "[\n",
      "  {\n",
      "    \"address\": \"123 Main Street, Anytown, USA\"\n",
      "  },\n",
      "  {\n",
      "    \"address\": \"456 Elm Street, Anytown, USA\"\n",
      "  },\n",
      "  {\n",
      "    \"address\": \"789 Oak Avenue, Anytown, USA\"\n",
      "  },\n",
      "  {\n",
      "    \"address\": \"111 Pine Street, Anytown, USA\"\n",
      "  },\n",
      "  {\n",
      "    \"address\": \"222 Cedar Lane, Anytown, USA\"\n",
      "  }\n",
      "]\n"
     ]
    }
   ],
   "source": [
    "from langchain.chains import SimpleSequentialChain\n",
    "\n",
    "chain=SimpleSequentialChain(chains=[name_chain, address_chain])\n",
    "response= chain.run(\"Arabic\")\n",
    "print(response)\n"
   ]
  },
  {
   "cell_type": "code",
   "execution_count": null,
   "metadata": {},
   "outputs": [],
   "source": []
  }
 ],
 "metadata": {
  "kernelspec": {
   "display_name": "llm-model",
   "language": "python",
   "name": "python3"
  },
  "language_info": {
   "codemirror_mode": {
    "name": "ipython",
    "version": 3
   },
   "file_extension": ".py",
   "mimetype": "text/x-python",
   "name": "python",
   "nbconvert_exporter": "python",
   "pygments_lexer": "ipython3",
   "version": "3.11.5"
  }
 },
 "nbformat": 4,
 "nbformat_minor": 2
}
