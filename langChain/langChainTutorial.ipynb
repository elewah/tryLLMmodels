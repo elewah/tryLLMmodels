{
 "cells": [
  {
   "cell_type": "code",
   "execution_count": 1,
   "metadata": {},
   "outputs": [
    {
     "data": {
      "text/plain": [
       "True"
      ]
     },
     "execution_count": 1,
     "metadata": {},
     "output_type": "execute_result"
    }
   ],
   "source": [
    "from dotenv import load_dotenv\n",
    "import os\n",
    "load_dotenv()\n"
   ]
  },
  {
   "cell_type": "code",
   "execution_count": 4,
   "metadata": {},
   "outputs": [
    {
     "name": "stdout",
     "output_type": "stream",
     "text": [
      "Requirement already satisfied: langchain in /home/iot-lab/anaconda3/envs/tryLLM/lib/python3.11/site-packages (0.0.351)\n",
      "Requirement already satisfied: PyYAML>=5.3 in /home/iot-lab/anaconda3/envs/tryLLM/lib/python3.11/site-packages (from langchain) (6.0.1)\n",
      "Requirement already satisfied: SQLAlchemy<3,>=1.4 in /home/iot-lab/anaconda3/envs/tryLLM/lib/python3.11/site-packages (from langchain) (2.0.23)\n",
      "Requirement already satisfied: aiohttp<4.0.0,>=3.8.3 in /home/iot-lab/anaconda3/envs/tryLLM/lib/python3.11/site-packages (from langchain) (3.9.1)\n",
      "Requirement already satisfied: dataclasses-json<0.7,>=0.5.7 in /home/iot-lab/anaconda3/envs/tryLLM/lib/python3.11/site-packages (from langchain) (0.6.3)\n",
      "Requirement already satisfied: jsonpatch<2.0,>=1.33 in /home/iot-lab/anaconda3/envs/tryLLM/lib/python3.11/site-packages (from langchain) (1.33)\n",
      "Requirement already satisfied: langchain-community<0.1,>=0.0.2 in /home/iot-lab/anaconda3/envs/tryLLM/lib/python3.11/site-packages (from langchain) (0.0.4)\n",
      "Requirement already satisfied: langchain-core<0.2,>=0.1 in /home/iot-lab/anaconda3/envs/tryLLM/lib/python3.11/site-packages (from langchain) (0.1.1)\n",
      "Requirement already satisfied: langsmith<0.1.0,>=0.0.70 in /home/iot-lab/anaconda3/envs/tryLLM/lib/python3.11/site-packages (from langchain) (0.0.72)\n",
      "Requirement already satisfied: numpy<2,>=1 in /home/iot-lab/anaconda3/envs/tryLLM/lib/python3.11/site-packages (from langchain) (1.26.2)\n",
      "Requirement already satisfied: pydantic<3,>=1 in /home/iot-lab/anaconda3/envs/tryLLM/lib/python3.11/site-packages (from langchain) (2.5.2)\n",
      "Requirement already satisfied: requests<3,>=2 in /home/iot-lab/anaconda3/envs/tryLLM/lib/python3.11/site-packages (from langchain) (2.31.0)\n",
      "Requirement already satisfied: tenacity<9.0.0,>=8.1.0 in /home/iot-lab/anaconda3/envs/tryLLM/lib/python3.11/site-packages (from langchain) (8.2.3)\n",
      "Requirement already satisfied: attrs>=17.3.0 in /home/iot-lab/anaconda3/envs/tryLLM/lib/python3.11/site-packages (from aiohttp<4.0.0,>=3.8.3->langchain) (23.1.0)\n",
      "Requirement already satisfied: multidict<7.0,>=4.5 in /home/iot-lab/anaconda3/envs/tryLLM/lib/python3.11/site-packages (from aiohttp<4.0.0,>=3.8.3->langchain) (6.0.4)\n",
      "Requirement already satisfied: yarl<2.0,>=1.0 in /home/iot-lab/anaconda3/envs/tryLLM/lib/python3.11/site-packages (from aiohttp<4.0.0,>=3.8.3->langchain) (1.9.4)\n",
      "Requirement already satisfied: frozenlist>=1.1.1 in /home/iot-lab/anaconda3/envs/tryLLM/lib/python3.11/site-packages (from aiohttp<4.0.0,>=3.8.3->langchain) (1.4.1)\n",
      "Requirement already satisfied: aiosignal>=1.1.2 in /home/iot-lab/anaconda3/envs/tryLLM/lib/python3.11/site-packages (from aiohttp<4.0.0,>=3.8.3->langchain) (1.3.1)\n",
      "Requirement already satisfied: marshmallow<4.0.0,>=3.18.0 in /home/iot-lab/anaconda3/envs/tryLLM/lib/python3.11/site-packages (from dataclasses-json<0.7,>=0.5.7->langchain) (3.20.1)\n",
      "Requirement already satisfied: typing-inspect<1,>=0.4.0 in /home/iot-lab/anaconda3/envs/tryLLM/lib/python3.11/site-packages (from dataclasses-json<0.7,>=0.5.7->langchain) (0.9.0)\n",
      "Requirement already satisfied: jsonpointer>=1.9 in /home/iot-lab/anaconda3/envs/tryLLM/lib/python3.11/site-packages (from jsonpatch<2.0,>=1.33->langchain) (2.4)\n",
      "Requirement already satisfied: anyio<5,>=3 in /home/iot-lab/anaconda3/envs/tryLLM/lib/python3.11/site-packages (from langchain-core<0.2,>=0.1->langchain) (4.2.0)\n",
      "Requirement already satisfied: packaging<24.0,>=23.2 in /home/iot-lab/anaconda3/envs/tryLLM/lib/python3.11/site-packages (from langchain-core<0.2,>=0.1->langchain) (23.2)\n",
      "Requirement already satisfied: annotated-types>=0.4.0 in /home/iot-lab/anaconda3/envs/tryLLM/lib/python3.11/site-packages (from pydantic<3,>=1->langchain) (0.6.0)\n",
      "Requirement already satisfied: pydantic-core==2.14.5 in /home/iot-lab/anaconda3/envs/tryLLM/lib/python3.11/site-packages (from pydantic<3,>=1->langchain) (2.14.5)\n",
      "Requirement already satisfied: typing-extensions>=4.6.1 in /home/iot-lab/anaconda3/envs/tryLLM/lib/python3.11/site-packages (from pydantic<3,>=1->langchain) (4.9.0)\n",
      "Requirement already satisfied: charset-normalizer<4,>=2 in /home/iot-lab/anaconda3/envs/tryLLM/lib/python3.11/site-packages (from requests<3,>=2->langchain) (3.3.2)\n",
      "Requirement already satisfied: idna<4,>=2.5 in /home/iot-lab/anaconda3/envs/tryLLM/lib/python3.11/site-packages (from requests<3,>=2->langchain) (3.6)\n",
      "Requirement already satisfied: urllib3<3,>=1.21.1 in /home/iot-lab/anaconda3/envs/tryLLM/lib/python3.11/site-packages (from requests<3,>=2->langchain) (2.1.0)\n",
      "Requirement already satisfied: certifi>=2017.4.17 in /home/iot-lab/anaconda3/envs/tryLLM/lib/python3.11/site-packages (from requests<3,>=2->langchain) (2023.11.17)\n",
      "Requirement already satisfied: greenlet!=0.4.17 in /home/iot-lab/anaconda3/envs/tryLLM/lib/python3.11/site-packages (from SQLAlchemy<3,>=1.4->langchain) (3.0.2)\n",
      "Requirement already satisfied: sniffio>=1.1 in /home/iot-lab/anaconda3/envs/tryLLM/lib/python3.11/site-packages (from anyio<5,>=3->langchain-core<0.2,>=0.1->langchain) (1.3.0)\n",
      "Requirement already satisfied: mypy-extensions>=0.3.0 in /home/iot-lab/anaconda3/envs/tryLLM/lib/python3.11/site-packages (from typing-inspect<1,>=0.4.0->dataclasses-json<0.7,>=0.5.7->langchain) (1.0.0)\n",
      "Collecting openai\n",
      "  Downloading openai-1.5.0-py3-none-any.whl.metadata (17 kB)\n",
      "Requirement already satisfied: anyio<5,>=3.5.0 in /home/iot-lab/anaconda3/envs/tryLLM/lib/python3.11/site-packages (from openai) (4.2.0)\n",
      "Collecting distro<2,>=1.7.0 (from openai)\n",
      "  Downloading distro-1.8.0-py3-none-any.whl (20 kB)\n",
      "Collecting httpx<1,>=0.23.0 (from openai)\n",
      "  Downloading httpx-0.25.2-py3-none-any.whl.metadata (6.9 kB)\n",
      "Requirement already satisfied: pydantic<3,>=1.9.0 in /home/iot-lab/anaconda3/envs/tryLLM/lib/python3.11/site-packages (from openai) (2.5.2)\n",
      "Requirement already satisfied: sniffio in /home/iot-lab/anaconda3/envs/tryLLM/lib/python3.11/site-packages (from openai) (1.3.0)\n",
      "Requirement already satisfied: tqdm>4 in /home/iot-lab/anaconda3/envs/tryLLM/lib/python3.11/site-packages (from openai) (4.66.1)\n",
      "Requirement already satisfied: typing-extensions<5,>=4.5 in /home/iot-lab/anaconda3/envs/tryLLM/lib/python3.11/site-packages (from openai) (4.9.0)\n",
      "Requirement already satisfied: idna>=2.8 in /home/iot-lab/anaconda3/envs/tryLLM/lib/python3.11/site-packages (from anyio<5,>=3.5.0->openai) (3.6)\n",
      "Requirement already satisfied: certifi in /home/iot-lab/anaconda3/envs/tryLLM/lib/python3.11/site-packages (from httpx<1,>=0.23.0->openai) (2023.11.17)\n",
      "Collecting httpcore==1.* (from httpx<1,>=0.23.0->openai)\n",
      "  Downloading httpcore-1.0.2-py3-none-any.whl.metadata (20 kB)\n",
      "Collecting h11<0.15,>=0.13 (from httpcore==1.*->httpx<1,>=0.23.0->openai)\n",
      "  Downloading h11-0.14.0-py3-none-any.whl (58 kB)\n",
      "\u001b[2K     \u001b[38;2;114;156;31m━━━━━━━━━━━━━━━━━━━━━━━━━━━━━━━━━━━━━━━━\u001b[0m \u001b[32m58.3/58.3 kB\u001b[0m \u001b[31m1.7 MB/s\u001b[0m eta \u001b[36m0:00:00\u001b[0m\n",
      "\u001b[?25hRequirement already satisfied: annotated-types>=0.4.0 in /home/iot-lab/anaconda3/envs/tryLLM/lib/python3.11/site-packages (from pydantic<3,>=1.9.0->openai) (0.6.0)\n",
      "Requirement already satisfied: pydantic-core==2.14.5 in /home/iot-lab/anaconda3/envs/tryLLM/lib/python3.11/site-packages (from pydantic<3,>=1.9.0->openai) (2.14.5)\n",
      "Downloading openai-1.5.0-py3-none-any.whl (223 kB)\n",
      "\u001b[2K   \u001b[38;2;114;156;31m━━━━━━━━━━━━━━━━━━━━━━━━━━━━━━━━━━━━━━━━\u001b[0m \u001b[32m223.7/223.7 kB\u001b[0m \u001b[31m5.1 MB/s\u001b[0m eta \u001b[36m0:00:00\u001b[0m MB/s\u001b[0m eta \u001b[36m0:00:01\u001b[0m\n",
      "\u001b[?25hDownloading httpx-0.25.2-py3-none-any.whl (74 kB)\n",
      "\u001b[2K   \u001b[38;2;114;156;31m━━━━━━━━━━━━━━━━━━━━━━━━━━━━━━━━━━━━━━━━\u001b[0m \u001b[32m75.0/75.0 kB\u001b[0m \u001b[31m5.9 MB/s\u001b[0m eta \u001b[36m0:00:00\u001b[0m\n",
      "\u001b[?25hDownloading httpcore-1.0.2-py3-none-any.whl (76 kB)\n",
      "\u001b[2K   \u001b[38;2;114;156;31m━━━━━━━━━━━━━━━━━━━━━━━━━━━━━━━━━━━━━━━━\u001b[0m \u001b[32m76.9/76.9 kB\u001b[0m \u001b[31m6.2 MB/s\u001b[0m eta \u001b[36m0:00:00\u001b[0m\n",
      "\u001b[?25hInstalling collected packages: h11, distro, httpcore, httpx, openai\n",
      "Successfully installed distro-1.8.0 h11-0.14.0 httpcore-1.0.2 httpx-0.25.2 openai-1.5.0\n",
      "\n",
      "\n",
      "حسين (Hussein)\n"
     ]
    }
   ],
   "source": [
    "!pip install langchain\n",
    "!pip install openai\n",
    "\n",
    "from langchain.llms import OpenAI\n",
    "llm= OpenAI(temperature =0.6)\n",
    "prommptTemplate= \"I want chose a name for a new born suggest an Arbic name\"\n",
    "\n",
    "print(llm(prommptTemplate))"
   ]
  },
  {
   "cell_type": "code",
   "execution_count": 6,
   "metadata": {},
   "outputs": [
    {
     "data": {
      "text/plain": [
       "'\\n\\nAashirya'"
      ]
     },
     "execution_count": 6,
     "metadata": {},
     "output_type": "execute_result"
    }
   ],
   "source": [
    "from langchain.prompts import PromptTemplate\n",
    "namingTemplate=PromptTemplate(\n",
    "    input_variables= ['Nationalitiy'],\n",
    "    template = \"I want chose a name for a new born suggest an {Nationalitiy} name\")\n",
    "\n",
    "llm(namingTemplate.format(Nationalitiy=\"Indian\"))"
   ]
  },
  {
   "cell_type": "code",
   "execution_count": 4,
   "metadata": {},
   "outputs": [
    {
     "data": {
      "text/plain": [
       "'\\n\\nKamirah'"
      ]
     },
     "execution_count": 4,
     "metadata": {},
     "output_type": "execute_result"
    }
   ],
   "source": [
    "from langchain.chains import LLMChain\n",
    "chain=LLMChain(llm=llm, prompt=namingTemplate)\n",
    "chain.run(\"Egyptian\")"
   ]
  },
  {
   "cell_type": "code",
   "execution_count": 5,
   "metadata": {},
   "outputs": [],
   "source": [
    "\n",
    "llm= OpenAI(temperature =0.6)\n",
    "namingTemplate=PromptTemplate(\n",
    "    input_variables= ['Nationalitiy'],\n",
    "    template = \"I want chose a name for a new born. Suggest an {Nationalitiy} name\")\n",
    "name_chain=LLMChain(llm=llm, prompt=namingTemplate)\n",
    "addressTemplate=PromptTemplate(\n",
    "    input_variables= ['name'],\n",
    "    template = \"suggest some addresses for {name}, retun a json list of the suggested addresses\")\n",
    "address_chain=LLMChain(llm=llm, prompt=addressTemplate)"
   ]
  },
  {
   "cell_type": "code",
   "execution_count": 6,
   "metadata": {},
   "outputs": [
    {
     "name": "stdout",
     "output_type": "stream",
     "text": [
      "\n",
      "\n",
      "[\n",
      "\t{\n",
      "\t\t\"street\": \"Habib Street\",\n",
      "\t\t\"city\": \"Dubai\",\n",
      "\t\t\"country\": \"United Arab Emirates\"\n",
      "\t},\n",
      "\t{\n",
      "\t\t\"street\": \"Habib Avenue\",\n",
      "\t\t\"city\": \"Riyadh\",\n",
      "\t\t\"country\": \"Saudi Arabia\"\n",
      "\t},\n",
      "\t{\n",
      "\t\t\"street\": \"Habib Lane\",\n",
      "\t\t\"city\": \"Muscat\",\n",
      "\t\t\"country\": \"Oman\"\n",
      "\t},\n",
      "\t{\n",
      "\t\t\"street\": \"Habib Road\",\n",
      "\t\t\"city\": \"Amman\",\n",
      "\t\t\"country\": \"Jordan\"\n",
      "\t},\n",
      "\t{\n",
      "\t\t\"street\": \"Habib Court\",\n",
      "\t\t\"city\": \"Doha\",\n",
      "\t\t\"country\": \"Qatar\"\n",
      "\t}\n",
      "]\n"
     ]
    }
   ],
   "source": [
    "from langchain.chains import SimpleSequentialChain\n",
    "\n",
    "chain=SimpleSequentialChain(chains=[name_chain, address_chain])\n",
    "response= chain.run(\"Arabic\")\n",
    "print(response)\n"
   ]
  },
  {
   "cell_type": "code",
   "execution_count": 7,
   "metadata": {},
   "outputs": [],
   "source": [
    "llm= OpenAI(temperature =0.6)\n",
    "namingTemplate=PromptTemplate(\n",
    "    input_variables= ['Nationalitiy'],\n",
    "    template = \"I want chose a name for a new born. Suggest an {Nationalitiy} name and retun the result using this template:  suggested_Name from {Nationalitiy}\" )\n",
    "name_chain=LLMChain(llm=llm, prompt=namingTemplate, output_key=\"new_born_info\")\n",
    "addressTemplate=PromptTemplate(\n",
    "    input_variables= ['new_born_info'],\n",
    "    template = 'suggest some addresses for {new_born_info}, return list of the suggested addresses that must be in {new_born_info} country.')\n",
    "address_chain=LLMChain(llm=llm, prompt=addressTemplate, output_key=\"list_of_addresses\")"
   ]
  },
  {
   "cell_type": "code",
   "execution_count": 24,
   "metadata": {},
   "outputs": [],
   "source": [
    "from langchain.chains import SequentialChain\n",
    "seqChain = SequentialChain(\n",
    "    chains=[name_chain, address_chain],\n",
    "    input_variables=[\"Nationalitiy\"],\n",
    "    output_variables=[\"new_born_info\", \"list_of_addresses\"]\n",
    ")\n",
    "\n",
    "restult =seqChain({\"Nationalitiy\": \"Arabic\"})"
   ]
  },
  {
   "cell_type": "code",
   "execution_count": 38,
   "metadata": {},
   "outputs": [
    {
     "name": "stdout",
     "output_type": "stream",
     "text": [
      " origin\n",
      "\n",
      "I suggest the name \"Munir\" from Arabic origin.\n"
     ]
    }
   ],
   "source": [
    "# from pprint import pprint\n",
    "print(restult['new_born_info'])"
   ]
  },
  {
   "cell_type": "code",
   "execution_count": 5,
   "metadata": {},
   "outputs": [
    {
     "name": "stdout",
     "output_type": "stream",
     "text": [
      "\n",
      "\n",
      "\u001b[1m> Entering new AgentExecutor chain...\u001b[0m\n",
      "\u001b[32;1m\u001b[1;3m I need to find out who is the current president of Egypt\n",
      "Action: Wikipedia\n",
      "Action Input: Current president of Egypt\u001b[0m\n",
      "Observation: \u001b[36;1m\u001b[1;3mPage: List of presidents of Egypt\n",
      "Summary: The office of President of Egypt was established in 1953. The president is the head of state of Egypt and the Supreme Commander of the Egyptian Armed Forces. The current president is Abdel Fattah el-Sisi, who has effectively controlled the country since the 2013 coup d'état, and was officially elected president in 2014.\n",
      "\n",
      "\n",
      "\n",
      "Page: President of Egypt\n",
      "Summary: The president of the Arab Republic of Egypt (Arabic: رئيس جمهورية مصر العربية) is the executive head of state of Egypt and the de facto appointee of the official head of government under the Egyptian Constitution of 2014. Under the various iterations of the Constitution of Egypt following the Egyptian Revolution of 1952, the president is also the supreme commander of the Armed Forces, and head of the executive branch of the Egyptian government. The current president is Field Marshal Abdel Fattah el-Sisi, who has been in office since 8 June 2014.\n",
      "\n",
      "\n",
      "\n",
      "Page: 2023 Egyptian presidential election\n",
      "Summary: Presidential elections were held in Egypt in December 2023, as announced by the National Election Authority, after speculation that the elections might be held earlier than expected. Candidate registration was from 5–14 October 2023 and the election was held in Egypt from 10 to 12 December; expatriates voted from 1–3 December.Incumbent President Abdel Fattah el-Sisi, who initially came to power in the aftermath of the 2013 Egyptian coup d'état, was eligible for re-election since term limits were adjusted from four to six years by a constitutional amendment in 2019, and he technically will not have served as president for more than the maximum of 12 years at the time of the election. His rule has been described as authoritarian. On 18 December he was reported to have won with 89.6% of the vote. The voter turnout was stated to be 66.8% of registered voters.\n",
      "\n",
      "\u001b[0m\n",
      "Thought:\u001b[32;1m\u001b[1;3m I now know the final answer\n",
      "Final Answer: The current president of Egypt is Abdel Fattah el-Sisi, who has been in office since 8 June 2014.\u001b[0m\n",
      "\n",
      "\u001b[1m> Finished chain.\u001b[0m\n"
     ]
    },
    {
     "data": {
      "text/plain": [
       "'The current president of Egypt is Abdel Fattah el-Sisi, who has been in office since 8 June 2014.'"
      ]
     },
     "execution_count": 5,
     "metadata": {},
     "output_type": "execute_result"
    }
   ],
   "source": [
    "from langchain.agents import AgentType, load_tools, initialize_agent\n",
    "\n",
    "tools= load_tools([\"wikipedia\"], llm=llm)\n",
    "\n",
    "agent =initialize_agent(\n",
    "    tools,\n",
    "    llm,\n",
    "    agent=AgentType.ZERO_SHOT_REACT_DESCRIPTION,\n",
    "    verbose=True,\n",
    ")\n",
    "\n",
    "agent.run(\"Do you know who is the current presdint of Egypt\")"
   ]
  },
  {
   "cell_type": "code",
   "execution_count": 3,
   "metadata": {},
   "outputs": [
    {
     "name": "stdout",
     "output_type": "stream",
     "text": [
      "Collecting google-search-results\n",
      "  Downloading google_search_results-2.4.2.tar.gz (18 kB)\n",
      "  Preparing metadata (setup.py) ... \u001b[?25ldone\n",
      "\u001b[?25hRequirement already satisfied: requests in /home/iot-lab/anaconda3/envs/tryLLM/lib/python3.11/site-packages (from google-search-results) (2.31.0)\n",
      "Requirement already satisfied: charset-normalizer<4,>=2 in /home/iot-lab/anaconda3/envs/tryLLM/lib/python3.11/site-packages (from requests->google-search-results) (3.3.2)\n",
      "Requirement already satisfied: idna<4,>=2.5 in /home/iot-lab/anaconda3/envs/tryLLM/lib/python3.11/site-packages (from requests->google-search-results) (3.6)\n",
      "Requirement already satisfied: urllib3<3,>=1.21.1 in /home/iot-lab/anaconda3/envs/tryLLM/lib/python3.11/site-packages (from requests->google-search-results) (2.1.0)\n",
      "Requirement already satisfied: certifi>=2017.4.17 in /home/iot-lab/anaconda3/envs/tryLLM/lib/python3.11/site-packages (from requests->google-search-results) (2023.11.17)\n",
      "Building wheels for collected packages: google-search-results\n",
      "  Building wheel for google-search-results (setup.py) ... \u001b[?25ldone\n",
      "\u001b[?25h  Created wheel for google-search-results: filename=google_search_results-2.4.2-py3-none-any.whl size=32003 sha256=57229c7ba45f76932f43e6e073a3dcb692d04124960ed421c4104a1de599cf80\n",
      "  Stored in directory: /home/iot-lab/.cache/pip/wheels/6e/42/3e/aeb691b02cb7175ec70e2da04b5658d4739d2b41e5f73cd06f\n",
      "Successfully built google-search-results\n",
      "Installing collected packages: google-search-results\n",
      "Successfully installed google-search-results-2.4.2\n",
      "\n",
      "\n",
      "\u001b[1m> Entering new AgentExecutor chain...\u001b[0m\n",
      "\u001b[32;1m\u001b[1;3m I should look for the answer online\n",
      "Action: Search\n",
      "Action Input: Current president of Egypt\u001b[0m\n",
      "Observation: \u001b[36;1m\u001b[1;3mAbdel Fattah El-Sisi\u001b[0m\n",
      "Thought:\u001b[32;1m\u001b[1;3m I now know the final answer\n",
      "Final Answer: Abdel Fattah El-Sisi is the current president of Egypt.\u001b[0m\n",
      "\n",
      "\u001b[1m> Finished chain.\u001b[0m\n"
     ]
    },
    {
     "data": {
      "text/plain": [
       "'Abdel Fattah El-Sisi is the current president of Egypt.'"
      ]
     },
     "execution_count": 3,
     "metadata": {},
     "output_type": "execute_result"
    }
   ],
   "source": [
    "from langchain.agents import AgentType, load_tools, initialize_agent\n",
    "from langchain.llms import OpenAI\n",
    "!pip install google-search-results\n",
    "llm= OpenAI(temperature =0.6)\n",
    "tools= load_tools([\"serpapi\"], llm=llm)\n",
    "\n",
    "agent =initialize_agent(\n",
    "    tools,\n",
    "    llm,\n",
    "    agent=AgentType.ZERO_SHOT_REACT_DESCRIPTION,\n",
    "    verbose=True\n",
    ")\n",
    "\n",
    "agent.run(\"Do you know who is the current presdint of Egypt\")"
   ]
  },
  {
   "cell_type": "code",
   "execution_count": 8,
   "metadata": {},
   "outputs": [
    {
     "name": "stdout",
     "output_type": "stream",
     "text": [
      " origin is \"Ethan\"\n",
      "\n",
      "The suggested name from Canadian origin is \"Ethan\".\n"
     ]
    }
   ],
   "source": [
    "from langchain.memory import ConversationBufferMemory\n",
    "from langchain import LLMChain\n",
    "memory=ConversationBufferMemory()\n",
    "chain=LLMChain(llm=llm, prompt=namingTemplate, memory=memory)\n",
    "response=chain.run(\"Canadian\")\n",
    "print(response)"
   ]
  },
  {
   "cell_type": "code",
   "execution_count": 11,
   "metadata": {},
   "outputs": [
    {
     "name": "stdout",
     "output_type": "stream",
     "text": [
      "Human: Canadian\n",
      "AI:  origin is \"Ethan\"\n",
      "\n",
      "The suggested name from Canadian origin is \"Ethan\".\n"
     ]
    }
   ],
   "source": [
    "print(chain.memory.buffer)"
   ]
  },
  {
   "cell_type": "code",
   "execution_count": 15,
   "metadata": {},
   "outputs": [
    {
     "name": "stdout",
     "output_type": "stream",
     "text": [
      "The following is a friendly conversation between a human and an AI. The AI is talkative and provides lots of specific details from its context. If the AI does not know the answer to a question, it truthfully says it does not know.\n",
      "\n",
      "Current conversation:\n",
      "{history}\n",
      "Human: {input}\n",
      "AI:\n"
     ]
    }
   ],
   "source": [
    "from langchain.chains import ConversationChain\n",
    "from langchain.memory import ConversationBufferWindowMemory\n",
    "memory=ConversationBufferWindowMemory(k=3)\n",
    "ConvChain=ConversationChain(llm=llm, memory=memory)\n",
    "print(ConvChain.prompt.template)\n"
   ]
  },
  {
   "cell_type": "code",
   "execution_count": 16,
   "metadata": {},
   "outputs": [
    {
     "data": {
      "text/plain": [
       "' Sure! Arabic is the official language of Egypt. It is also one of the most widely spoken languages in the world, with over 500 million native speakers. It is written in the Arabic alphabet and is the liturgical language of Islam.'"
      ]
     },
     "execution_count": 16,
     "metadata": {},
     "output_type": "execute_result"
    }
   ],
   "source": [
    "ConvChain.run(\"Egyptian\")\n",
    "ConvChain.run(\"Arabic\")"
   ]
  },
  {
   "cell_type": "code",
   "execution_count": 17,
   "metadata": {},
   "outputs": [
    {
     "name": "stdout",
     "output_type": "stream",
     "text": [
      "Human: Egyptian\n",
      "AI:  Interesting! I understand you're asking about Egypt. Egypt is a country in North Africa located on the Mediterranean Sea. It is home to the ancient Egyptian civilization, one of the oldest and most advanced civilizations in the world. It is also the most populous country in the Arab world and has the 15th largest economy in the world.\n",
      "Human: Arabic\n",
      "AI:  Sure! Arabic is the official language of Egypt. It is also one of the most widely spoken languages in the world, with over 500 million native speakers. It is written in the Arabic alphabet and is the liturgical language of Islam.\n"
     ]
    }
   ],
   "source": [
    "print(ConvChain.memory.buffer)"
   ]
  },
  {
   "cell_type": "code",
   "execution_count": null,
   "metadata": {},
   "outputs": [],
   "source": []
  }
 ],
 "metadata": {
  "kernelspec": {
   "display_name": "llm-model",
   "language": "python",
   "name": "python3"
  },
  "language_info": {
   "codemirror_mode": {
    "name": "ipython",
    "version": 3
   },
   "file_extension": ".py",
   "mimetype": "text/x-python",
   "name": "python",
   "nbconvert_exporter": "python",
   "pygments_lexer": "ipython3",
   "version": "3.11.5"
  }
 },
 "nbformat": 4,
 "nbformat_minor": 2
}
